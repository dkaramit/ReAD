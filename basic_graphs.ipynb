{
 "cells": [
  {
   "cell_type": "code",
   "execution_count": 1,
   "id": "fbec9b5e-18f3-4372-968b-e1fab3447d8a",
   "metadata": {},
   "outputs": [],
   "source": [
    "class Node:\n",
    "    number_of_instances=0\n",
    "    \n",
    "    def __init__(self, value, input_nodes=[],evaluate=lambda x:x):\n",
    "        self.value = value\n",
    "        self.input_nodes = input_nodes\n",
    "        self.evaluate=evaluate\n",
    "        \n",
    "        Node.number_of_instances+=1\n",
    "        self.id=Node.number_of_instances\n",
    "        \n",
    "    def __add__(lhs, rhs):\n",
    "        return add(lhs, rhs)\n",
    "    \n",
    "    def __mul__(lhs, rhs):\n",
    "        return mul(lhs, rhs)"
   ]
  },
  {
   "cell_type": "code",
   "execution_count": 3,
   "id": "c68841d5-c579-4a30-adef-8f33201f6a5e",
   "metadata": {},
   "outputs": [],
   "source": [
    "One=Node(1)"
   ]
  },
  {
   "cell_type": "code",
   "execution_count": 4,
   "id": "d2fe0759-17b9-456c-aaf1-915cc77c4c68",
   "metadata": {},
   "outputs": [],
   "source": [
    "def add(lhs,rhs):\n",
    "    return Node(lhs.value+rhs.value , [[lhs,lambda: One],[rhs,lambda: One]], lambda x,y: x+y)\n",
    "\n",
    "def mul(lhs,rhs):\n",
    "    return Node(lhs.value*rhs.value , [[lhs,lambda: rhs],[rhs,lambda: lhs]], lambda x,y: x*y)"
   ]
  },
  {
   "cell_type": "code",
   "execution_count": 5,
   "id": "7a395ced",
   "metadata": {},
   "outputs": [],
   "source": [
    "def topo_sort(node,stack,visited):\n",
    "    \n",
    "    visited.add(node)\n",
    "    for input_node, _ in node.input_nodes:\n",
    "        print(input_node.id)\n",
    "        if not input_node in visited:\n",
    "            print('-',input_node.id)\n",
    "            topo_sort(input_node, stack, visited)\n",
    "    stack.append(node)\n",
    "    return stack"
   ]
  },
  {
   "cell_type": "code",
   "execution_count": 6,
   "id": "dce5dbad",
   "metadata": {},
   "outputs": [],
   "source": [
    "def derivatives(node):    \n",
    "    stack = topo_sort(node, [], set())\n",
    "    local_derivatives={node:One}\n",
    "        \n",
    "    while stack:\n",
    "        current_node = stack.pop()\n",
    "        print('=======')\n",
    "        print(current_node.id)\n",
    "\n",
    "        for input_node in current_node.input_nodes:\n",
    "            if input_node[0] in local_derivatives.keys() :\n",
    "                print('--',input_node[0].id)\n",
    "                local_derivatives[input_node[0]] += input_node[1]() * local_derivatives[current_node]\n",
    "            else:\n",
    "                print('-',input_node[0].id)\n",
    "                local_derivatives[input_node[0]]  = input_node[1]() * local_derivatives[current_node]\n",
    "\n",
    "    return local_derivatives\n",
    "\n"
   ]
  },
  {
   "cell_type": "code",
   "execution_count": null,
   "id": "84107a1f",
   "metadata": {},
   "outputs": [],
   "source": []
  },
  {
   "cell_type": "code",
   "execution_count": 7,
   "id": "4477f903-91e4-4fc0-9a27-440ae5bc9c76",
   "metadata": {},
   "outputs": [],
   "source": [
    "Node.number_of_instances=0\n",
    "x=Node(2)#1\n",
    "y=Node(4)#2\n",
    "\n",
    "f=x+y#3\n",
    "g=x*f#4\n",
    "\n",
    "h=f*y#5\n",
    "\n",
    "T=g*h#6"
   ]
  },
  {
   "cell_type": "code",
   "execution_count": 8,
   "id": "aa62bb76-860b-4e1c-a8c7-5608ddb303bd",
   "metadata": {},
   "outputs": [
    {
     "data": {
      "text/plain": [
       "(1, 2, 3, 4, 5, 6)"
      ]
     },
     "execution_count": 8,
     "metadata": {},
     "output_type": "execute_result"
    }
   ],
   "source": [
    "(x.id,y.id,f.id,g.id,h.id,T.id)"
   ]
  },
  {
   "cell_type": "code",
   "execution_count": 9,
   "id": "84700598",
   "metadata": {},
   "outputs": [
    {
     "name": "stdout",
     "output_type": "stream",
     "text": [
      "4\n",
      "- 4\n",
      "1\n",
      "- 1\n",
      "3\n",
      "- 3\n",
      "1\n",
      "2\n",
      "- 2\n",
      "5\n",
      "- 5\n",
      "3\n",
      "2\n"
     ]
    },
    {
     "data": {
      "text/plain": [
       "[1, 2, 3, 4, 5, 6]"
      ]
     },
     "execution_count": 9,
     "metadata": {},
     "output_type": "execute_result"
    }
   ],
   "source": [
    "stack=[]\n",
    "[_.id for _ in topo_sort(T,stack,set())]"
   ]
  },
  {
   "cell_type": "code",
   "execution_count": 10,
   "id": "5fd13b4a",
   "metadata": {},
   "outputs": [
    {
     "name": "stdout",
     "output_type": "stream",
     "text": [
      "4\n",
      "- 4\n",
      "1\n",
      "- 1\n",
      "3\n",
      "- 3\n",
      "1\n",
      "2\n",
      "- 2\n",
      "5\n",
      "- 5\n",
      "3\n",
      "2\n",
      "=======\n",
      "6\n",
      "- 4\n",
      "- 5\n",
      "=======\n",
      "5\n",
      "- 3\n",
      "- 2\n",
      "=======\n",
      "4\n",
      "- 1\n",
      "-- 3\n",
      "=======\n",
      "3\n",
      "-- 1\n",
      "-- 2\n",
      "=======\n",
      "2\n",
      "=======\n",
      "1\n"
     ]
    }
   ],
   "source": [
    "D=derivatives(T)"
   ]
  },
  {
   "cell_type": "code",
   "execution_count": null,
   "id": "55836500",
   "metadata": {},
   "outputs": [],
   "source": []
  }
 ],
 "metadata": {
  "kernelspec": {
   "display_name": "Python 3 (ipykernel)",
   "language": "python",
   "name": "python3"
  },
  "language_info": {
   "codemirror_mode": {
    "name": "ipython",
    "version": 3
   },
   "file_extension": ".py",
   "mimetype": "text/x-python",
   "name": "python",
   "nbconvert_exporter": "python",
   "pygments_lexer": "ipython3",
   "version": "3.11.6"
  }
 },
 "nbformat": 4,
 "nbformat_minor": 5
}
