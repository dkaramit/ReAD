{
 "cells": [
  {
   "cell_type": "code",
   "execution_count": 1,
   "id": "fbec9b5e-18f3-4372-968b-e1fab3447d8a",
   "metadata": {},
   "outputs": [],
   "source": [
    "class Node:\n",
    "    def __init__(self, value, children=[],evaluate=lambda x: x):\n",
    "        self.value = value\n",
    "        self.children = children\n",
    "        self.evaluate=evaluate\n",
    "        \n",
    "    def __add__(lhs, rhs):\n",
    "        return add(lhs, rhs)\n",
    "    \n",
    "    def __mul__(lhs, rhs):\n",
    "        return mul(lhs, rhs)"
   ]
  },
  {
   "cell_type": "code",
   "execution_count": 2,
   "id": "c68841d5-c579-4a30-adef-8f33201f6a5e",
   "metadata": {},
   "outputs": [],
   "source": [
    "One=Node(1)"
   ]
  },
  {
   "cell_type": "code",
   "execution_count": 3,
   "id": "d2fe0759-17b9-456c-aaf1-915cc77c4c68",
   "metadata": {},
   "outputs": [],
   "source": [
    "def add(lhs,rhs):\n",
    "    return Node(lhs.value+rhs.value , [[lhs,lambda: One],[rhs,lambda: One]], lambda x,y: x+y)\n",
    "\n",
    "def mul(lhs,rhs):\n",
    "    return Node(lhs.value*rhs.value , [[lhs,lambda: rhs],[rhs,lambda: lhs]], lambda x,y: x*y)"
   ]
  },
  {
   "cell_type": "code",
   "execution_count": 4,
   "id": "29436e7d-a900-4c59-8ae5-c09d3683c1c5",
   "metadata": {},
   "outputs": [],
   "source": [
    "def traverse_backward(node, derivatives={}, parent_local_derivative=One):\n",
    "    for child in node.children:\n",
    "\n",
    "        child_local_derivative = child[1]()*parent_local_derivative   \n",
    "        \n",
    "        if child[0] in derivatives.keys() :\n",
    "            derivatives[child[0]] += child_local_derivative\n",
    "        else:\n",
    "            derivatives[child[0]]  = child_local_derivative\n",
    "        \n",
    "        traverse_backward(child[0], derivatives, child_local_derivative)\n",
    "\n",
    "def derivatives(node):\n",
    "    derivatives={}\n",
    "    traverse_backward(node, derivatives)\n",
    "    return derivatives\n"
   ]
  },
  {
   "cell_type": "code",
   "execution_count": 18,
   "id": "35e3e80d-1dee-4da1-8e3e-16e8c47f8a68",
   "metadata": {},
   "outputs": [],
   "source": [
    "x=Node(2)\n",
    "y=Node(4)\n",
    "\n",
    "D=derivatives(mul(mul(x,y),mul(x,y)))\n",
    "DxD=derivatives(D[x])\n",
    "DyD=derivatives(D[y])"
   ]
  },
  {
   "cell_type": "code",
   "execution_count": 19,
   "id": "796741d7-d710-4d9d-97a7-8f9d9a474bf6",
   "metadata": {},
   "outputs": [
    {
     "data": {
      "text/plain": [
       "((64, 32), (32, 32, 32, 8))"
      ]
     },
     "execution_count": 19,
     "metadata": {},
     "output_type": "execute_result"
    }
   ],
   "source": [
    "(D[x].value,D[y].value),\\\n",
    "(DxD[x].value,DxD[y].value,DyD[x].value,DyD[y].value)"
   ]
  },
  {
   "cell_type": "code",
   "execution_count": null,
   "id": "aa62bb76-860b-4e1c-a8c7-5608ddb303bd",
   "metadata": {},
   "outputs": [],
   "source": []
  }
 ],
 "metadata": {
  "kernelspec": {
   "display_name": "Python 3 (ipykernel)",
   "language": "python",
   "name": "python3"
  },
  "language_info": {
   "codemirror_mode": {
    "name": "ipython",
    "version": 3
   },
   "file_extension": ".py",
   "mimetype": "text/x-python",
   "name": "python",
   "nbconvert_exporter": "python",
   "pygments_lexer": "ipython3",
   "version": "3.11.6"
  }
 },
 "nbformat": 4,
 "nbformat_minor": 5
}
