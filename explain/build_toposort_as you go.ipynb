{
 "cells": [
  {
   "cell_type": "code",
   "execution_count": 1,
   "id": "ea51f11b",
   "metadata": {},
   "outputs": [],
   "source": [
    "class OrderedExpression:\n",
    "    def __init__(self):\n",
    "        self.level=0\n",
    "        self.stack=[]\n",
    "\n",
    "    def add_node(self,node):\n",
    "        self.stack.append(node)\n",
    "        self.level+=1\n",
    "    \n",
    "    def remove_node(self,node):\n",
    "        self.stack.remove(node)\n",
    "        self.level-=1\n",
    "    "
   ]
  },
  {
   "cell_type": "code",
   "execution_count": 2,
   "id": "fbec9b5e-18f3-4372-968b-e1fab3447d8a",
   "metadata": {},
   "outputs": [],
   "source": [
    "class Node:\n",
    "    number_of_instances=0\n",
    "    \n",
    "    def __init__(self, value, input_nodes=[],tape=OrderedExpression()):\n",
    "        self.value = value\n",
    "        self.input_nodes = input_nodes\n",
    "        \n",
    "        \n",
    "        Node.number_of_instances+=1\n",
    "        self.id=Node.number_of_instances\n",
    "        \n",
    "        self.tape=tape\n",
    "        self.tape.add_node(self)\n",
    "        \n",
    "    def __add__(lhs,rhs):\n",
    "        return add (lhs,rhs)"
   ]
  },
  {
   "cell_type": "code",
   "execution_count": null,
   "id": "7ab7c31f",
   "metadata": {},
   "outputs": [],
   "source": []
  },
  {
   "cell_type": "code",
   "execution_count": 3,
   "id": "145d1d20",
   "metadata": {},
   "outputs": [],
   "source": [
    "def add(lhs,rhs):\n",
    "    if lhs.tape != rhs.tape:\n",
    "        raise Exception('You cannot add things from different tapes.') \n",
    "\n",
    "    return Node(lhs.value+rhs.value, [[lhs,1],[rhs,1]],lhs.tape)"
   ]
  },
  {
   "cell_type": "code",
   "execution_count": 4,
   "id": "7a395ced",
   "metadata": {},
   "outputs": [],
   "source": [
    "def topological_sort(node,stack,visited):\n",
    "    \n",
    "    visited.add(node)\n",
    "    for input_node, _ in node.input_nodes:\n",
    "        if not input_node in visited:\n",
    "            topological_sort(input_node, stack, visited)\n",
    "    stack.append(node)\n",
    "    return stack"
   ]
  },
  {
   "cell_type": "code",
   "execution_count": 5,
   "id": "f289dc7e",
   "metadata": {},
   "outputs": [],
   "source": [
    "Node.number_of_instances=0\n",
    "\n",
    "Expression=OrderedExpression()\n",
    "x=Node(1,tape=Expression)\n",
    "y=Node(0.2,tape=Expression)\n",
    "z=Node(0.4,tape=Expression)\n",
    "#having something like \n",
    "# z=Node(0.4)\n",
    "# can cause problems, since it may not be put in the Expression.\n",
    "#This is why you may want to enfroce it with an exception.\n",
    "\n",
    "#we dont do anything with this... it might be a problem\n",
    "# g=Node(0.4,tape=Expression)\n",
    "\n",
    "\n",
    "f=y+x\n",
    "f=f+z+y"
   ]
  },
  {
   "cell_type": "code",
   "execution_count": 6,
   "id": "31c96ef4",
   "metadata": {},
   "outputs": [
    {
     "data": {
      "text/plain": [
       "[1, 2, 3, 4, 5, 6]"
      ]
     },
     "execution_count": 6,
     "metadata": {},
     "output_type": "execute_result"
    }
   ],
   "source": [
    "[_.id for _ in Expression.stack]"
   ]
  },
  {
   "cell_type": "code",
   "execution_count": 7,
   "id": "09545577",
   "metadata": {},
   "outputs": [
    {
     "data": {
      "text/plain": [
       "[2, 1, 4, 3, 5, 6]"
      ]
     },
     "execution_count": 7,
     "metadata": {},
     "output_type": "execute_result"
    }
   ],
   "source": [
    "[_.id for _ in topological_sort(f,[],set())]"
   ]
  },
  {
   "cell_type": "code",
   "execution_count": null,
   "id": "0991b0a8",
   "metadata": {},
   "outputs": [],
   "source": []
  }
 ],
 "metadata": {
  "kernelspec": {
   "display_name": "Python 3 (ipykernel)",
   "language": "python",
   "name": "python3"
  },
  "language_info": {
   "codemirror_mode": {
    "name": "ipython",
    "version": 3
   },
   "file_extension": ".py",
   "mimetype": "text/x-python",
   "name": "python",
   "nbconvert_exporter": "python",
   "pygments_lexer": "ipython3",
   "version": "3.11.6"
  }
 },
 "nbformat": 4,
 "nbformat_minor": 5
}
